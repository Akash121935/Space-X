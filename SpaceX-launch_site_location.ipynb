{
 "cells": [
  {
   "cell_type": "markdown",
   "metadata": {
    "id": "3n3ltmfnrqpi",
    "outputId": "a2d4f52a-2fb7-4668-f5f0-fe862aab8eb0",
    "papermill": {
     "duration": 1.489571,
     "end_time": "2020-09-19T06:26:57.168979",
     "exception": false,
     "start_time": "2020-09-19T06:26:55.679408",
     "status": "completed"
    },
    "tags": []
   },
   "source": [
    "<p style=\"text-align:center\">\n",
    "    <a href=\"https://skills.network/?utm_medium=Exinfluencer&utm_source=Exinfluencer&utm_content=000026UJ&utm_term=10006555&utm_id=NA-SkillsNetwork-Channel-SkillsNetworkCoursesIBMDS0321ENSkillsNetwork26802033-2022-01-01\" target=\"_blank\">\n",
    "    <img src=\"https://cf-courses-data.s3.us.cloud-object-storage.appdomain.cloud/assets/logos/SN_web_lightmode.png\" width=\"200\" alt=\"Skills Network Logo\"  />\n",
    "    </a>\n",
    "</p>\n"
   ]
  },
  {
   "cell_type": "markdown",
   "metadata": {},
   "source": [
    "# **Launch Sites Locations Analysis with Folium**\n"
   ]
  },
  {
   "cell_type": "markdown",
   "metadata": {},
   "source": [
    "Estimated time needed: **40** minutes\n"
   ]
  },
  {
   "cell_type": "markdown",
   "metadata": {
    "jupyter": {
     "source_hidden": true
    },
    "tags": []
   },
   "source": [
    "The launch success rate may depend on many factors such as payload mass, orbit type, and so on. It may also depend on the location and proximities of a launch site, i.e., the initial position of rocket trajectories. Finding an optimal location for building a launch site certainly involves many factors and hopefully we could discover some of the factors by analyzing the existing launch site locations.\n"
   ]
  },
  {
   "cell_type": "markdown",
   "metadata": {
    "tags": []
   },
   "source": [
    "In the previous exploratory data analysis labs, you have visualized the SpaceX launch dataset using `matplotlib` and `seaborn` and discovered some preliminary correlations between the launch site and success rates. In this lab, you will be performing more interactive visual analytics using `Folium`.\n"
   ]
  },
  {
   "cell_type": "markdown",
   "metadata": {},
   "source": [
    "## Objectives\n"
   ]
  },
  {
   "cell_type": "markdown",
   "metadata": {},
   "source": [
    "This lab contains the following tasks:\n",
    "\n",
    "*   **TASK 1:** Mark all launch sites on a map\n",
    "*   **TASK 2:** Mark the success/failed launches for each site on the map\n",
    "*   **TASK 3:** Calculate the distances between a launch site to its proximities\n",
    "\n",
    "After completed the above tasks, you should be able to find some geographical patterns about launch sites.\n"
   ]
  },
  {
   "cell_type": "markdown",
   "metadata": {},
   "source": [
    "Let's first import required Python packages for this lab:\n"
   ]
  },
  {
   "cell_type": "code",
   "execution_count": 2,
   "metadata": {},
   "outputs": [
    {
     "name": "stdout",
     "output_type": "stream",
     "text": [
      "Requirement already satisfied: folium in /home/jupyterlab/conda/envs/python/lib/python3.7/site-packages (0.11.0)\n",
      "Requirement already satisfied: numpy in /home/jupyterlab/conda/envs/python/lib/python3.7/site-packages (from folium) (1.21.6)\n",
      "Requirement already satisfied: jinja2>=2.9 in /home/jupyterlab/conda/envs/python/lib/python3.7/site-packages (from folium) (3.1.2)\n",
      "Requirement already satisfied: requests in /home/jupyterlab/conda/envs/python/lib/python3.7/site-packages (from folium) (2.28.1)\n",
      "Requirement already satisfied: branca>=0.3.0 in /home/jupyterlab/conda/envs/python/lib/python3.7/site-packages (from folium) (0.3.1)\n",
      "Requirement already satisfied: six in /home/jupyterlab/conda/envs/python/lib/python3.7/site-packages (from branca>=0.3.0->folium) (1.16.0)\n",
      "Requirement already satisfied: MarkupSafe>=2.0 in /home/jupyterlab/conda/envs/python/lib/python3.7/site-packages (from jinja2>=2.9->folium) (2.1.1)\n",
      "Requirement already satisfied: charset-normalizer<3,>=2 in /home/jupyterlab/conda/envs/python/lib/python3.7/site-packages (from requests->folium) (2.1.1)\n",
      "Requirement already satisfied: certifi>=2017.4.17 in /home/jupyterlab/conda/envs/python/lib/python3.7/site-packages (from requests->folium) (2022.9.14)\n",
      "Requirement already satisfied: urllib3<1.27,>=1.21.1 in /home/jupyterlab/conda/envs/python/lib/python3.7/site-packages (from requests->folium) (1.26.11)\n",
      "Requirement already satisfied: idna<4,>=2.5 in /home/jupyterlab/conda/envs/python/lib/python3.7/site-packages (from requests->folium) (3.4)\n",
      "Requirement already satisfied: wget in /home/jupyterlab/conda/envs/python/lib/python3.7/site-packages (3.2)\n",
      "Requirement already satisfied: branca==0.3.1 in /home/jupyterlab/conda/envs/python/lib/python3.7/site-packages (0.3.1)\n",
      "Requirement already satisfied: six in /home/jupyterlab/conda/envs/python/lib/python3.7/site-packages (from branca==0.3.1) (1.16.0)\n",
      "Requirement already satisfied: jinja2 in /home/jupyterlab/conda/envs/python/lib/python3.7/site-packages (from branca==0.3.1) (3.1.2)\n",
      "Requirement already satisfied: MarkupSafe>=2.0 in /home/jupyterlab/conda/envs/python/lib/python3.7/site-packages (from jinja2->branca==0.3.1) (2.1.1)\n",
      "Requirement already satisfied: ipywidgets in /home/jupyterlab/conda/envs/python/lib/python3.7/site-packages (7.4.2)\n",
      "Requirement already satisfied: nbformat>=4.2.0 in /home/jupyterlab/conda/envs/python/lib/python3.7/site-packages (from ipywidgets) (5.6.0)\n",
      "Requirement already satisfied: traitlets>=4.3.1 in /home/jupyterlab/conda/envs/python/lib/python3.7/site-packages (from ipywidgets) (5.4.0)\n",
      "Requirement already satisfied: ipykernel>=4.5.1 in /home/jupyterlab/conda/envs/python/lib/python3.7/site-packages (from ipywidgets) (6.15.3)\n",
      "Requirement already satisfied: ipython>=4.0.0 in /home/jupyterlab/conda/envs/python/lib/python3.7/site-packages (from ipywidgets) (7.33.0)\n",
      "Requirement already satisfied: widgetsnbextension~=3.4.0 in /home/jupyterlab/conda/envs/python/lib/python3.7/site-packages (from ipywidgets) (3.4.2)\n",
      "Requirement already satisfied: psutil in /home/jupyterlab/conda/envs/python/lib/python3.7/site-packages (from ipykernel>=4.5.1->ipywidgets) (5.9.2)\n",
      "Requirement already satisfied: nest-asyncio in /home/jupyterlab/conda/envs/python/lib/python3.7/site-packages (from ipykernel>=4.5.1->ipywidgets) (1.5.5)\n",
      "Requirement already satisfied: tornado>=6.1 in /home/jupyterlab/conda/envs/python/lib/python3.7/site-packages (from ipykernel>=4.5.1->ipywidgets) (6.2)\n",
      "Requirement already satisfied: debugpy>=1.0 in /home/jupyterlab/conda/envs/python/lib/python3.7/site-packages (from ipykernel>=4.5.1->ipywidgets) (1.6.3)\n",
      "Requirement already satisfied: packaging in /home/jupyterlab/conda/envs/python/lib/python3.7/site-packages (from ipykernel>=4.5.1->ipywidgets) (21.3)\n",
      "Requirement already satisfied: pyzmq>=17 in /home/jupyterlab/conda/envs/python/lib/python3.7/site-packages (from ipykernel>=4.5.1->ipywidgets) (24.0.1)\n",
      "Requirement already satisfied: jupyter-client>=6.1.12 in /home/jupyterlab/conda/envs/python/lib/python3.7/site-packages (from ipykernel>=4.5.1->ipywidgets) (7.3.5)\n",
      "Requirement already satisfied: matplotlib-inline>=0.1 in /home/jupyterlab/conda/envs/python/lib/python3.7/site-packages (from ipykernel>=4.5.1->ipywidgets) (0.1.6)\n",
      "Requirement already satisfied: jedi>=0.16 in /home/jupyterlab/conda/envs/python/lib/python3.7/site-packages (from ipython>=4.0.0->ipywidgets) (0.18.1)\n",
      "Requirement already satisfied: prompt-toolkit!=3.0.0,!=3.0.1,<3.1.0,>=2.0.0 in /home/jupyterlab/conda/envs/python/lib/python3.7/site-packages (from ipython>=4.0.0->ipywidgets) (3.0.31)\n",
      "Requirement already satisfied: pexpect>4.3 in /home/jupyterlab/conda/envs/python/lib/python3.7/site-packages (from ipython>=4.0.0->ipywidgets) (4.8.0)\n",
      "Requirement already satisfied: pickleshare in /home/jupyterlab/conda/envs/python/lib/python3.7/site-packages (from ipython>=4.0.0->ipywidgets) (0.7.5)\n",
      "Requirement already satisfied: backcall in /home/jupyterlab/conda/envs/python/lib/python3.7/site-packages (from ipython>=4.0.0->ipywidgets) (0.2.0)\n",
      "Requirement already satisfied: decorator in /home/jupyterlab/conda/envs/python/lib/python3.7/site-packages (from ipython>=4.0.0->ipywidgets) (5.1.1)\n",
      "Requirement already satisfied: pygments in /home/jupyterlab/conda/envs/python/lib/python3.7/site-packages (from ipython>=4.0.0->ipywidgets) (2.13.0)\n",
      "Requirement already satisfied: setuptools>=18.5 in /home/jupyterlab/conda/envs/python/lib/python3.7/site-packages (from ipython>=4.0.0->ipywidgets) (65.3.0)\n",
      "Requirement already satisfied: jupyter-core in /home/jupyterlab/conda/envs/python/lib/python3.7/site-packages (from nbformat>=4.2.0->ipywidgets) (4.11.1)\n",
      "Requirement already satisfied: jsonschema>=2.6 in /home/jupyterlab/conda/envs/python/lib/python3.7/site-packages (from nbformat>=4.2.0->ipywidgets) (4.16.0)\n",
      "Requirement already satisfied: fastjsonschema in /home/jupyterlab/conda/envs/python/lib/python3.7/site-packages (from nbformat>=4.2.0->ipywidgets) (2.16.2)\n",
      "Requirement already satisfied: notebook>=4.4.1 in /home/jupyterlab/conda/envs/python/lib/python3.7/site-packages (from widgetsnbextension~=3.4.0->ipywidgets) (6.4.12)\n",
      "Requirement already satisfied: parso<0.9.0,>=0.8.0 in /home/jupyterlab/conda/envs/python/lib/python3.7/site-packages (from jedi>=0.16->ipython>=4.0.0->ipywidgets) (0.8.3)\n",
      "Requirement already satisfied: importlib-resources>=1.4.0 in /home/jupyterlab/conda/envs/python/lib/python3.7/site-packages (from jsonschema>=2.6->nbformat>=4.2.0->ipywidgets) (5.9.0)\n",
      "Requirement already satisfied: attrs>=17.4.0 in /home/jupyterlab/conda/envs/python/lib/python3.7/site-packages (from jsonschema>=2.6->nbformat>=4.2.0->ipywidgets) (22.1.0)\n",
      "Requirement already satisfied: typing-extensions in /home/jupyterlab/conda/envs/python/lib/python3.7/site-packages (from jsonschema>=2.6->nbformat>=4.2.0->ipywidgets) (4.3.0)\n",
      "Requirement already satisfied: pkgutil-resolve-name>=1.3.10 in /home/jupyterlab/conda/envs/python/lib/python3.7/site-packages (from jsonschema>=2.6->nbformat>=4.2.0->ipywidgets) (1.3.10)\n",
      "Requirement already satisfied: importlib-metadata in /home/jupyterlab/conda/envs/python/lib/python3.7/site-packages (from jsonschema>=2.6->nbformat>=4.2.0->ipywidgets) (4.11.4)\n",
      "Requirement already satisfied: pyrsistent!=0.17.0,!=0.17.1,!=0.17.2,>=0.14.0 in /home/jupyterlab/conda/envs/python/lib/python3.7/site-packages (from jsonschema>=2.6->nbformat>=4.2.0->ipywidgets) (0.18.1)\n",
      "Requirement already satisfied: python-dateutil>=2.8.2 in /home/jupyterlab/conda/envs/python/lib/python3.7/site-packages (from jupyter-client>=6.1.12->ipykernel>=4.5.1->ipywidgets) (2.8.2)\n",
      "Requirement already satisfied: entrypoints in /home/jupyterlab/conda/envs/python/lib/python3.7/site-packages (from jupyter-client>=6.1.12->ipykernel>=4.5.1->ipywidgets) (0.4)\n",
      "Requirement already satisfied: prometheus-client in /home/jupyterlab/conda/envs/python/lib/python3.7/site-packages (from notebook>=4.4.1->widgetsnbextension~=3.4.0->ipywidgets) (0.14.1)\n",
      "Requirement already satisfied: nbconvert>=5 in /home/jupyterlab/conda/envs/python/lib/python3.7/site-packages (from notebook>=4.4.1->widgetsnbextension~=3.4.0->ipywidgets) (7.0.0)\n",
      "Requirement already satisfied: jinja2 in /home/jupyterlab/conda/envs/python/lib/python3.7/site-packages (from notebook>=4.4.1->widgetsnbextension~=3.4.0->ipywidgets) (3.1.2)\n",
      "Requirement already satisfied: Send2Trash>=1.8.0 in /home/jupyterlab/conda/envs/python/lib/python3.7/site-packages (from notebook>=4.4.1->widgetsnbextension~=3.4.0->ipywidgets) (1.8.0)\n",
      "Requirement already satisfied: ipython-genutils in /home/jupyterlab/conda/envs/python/lib/python3.7/site-packages (from notebook>=4.4.1->widgetsnbextension~=3.4.0->ipywidgets) (0.2.0)\n",
      "Requirement already satisfied: argon2-cffi in /home/jupyterlab/conda/envs/python/lib/python3.7/site-packages (from notebook>=4.4.1->widgetsnbextension~=3.4.0->ipywidgets) (21.3.0)\n",
      "Requirement already satisfied: terminado>=0.8.3 in /home/jupyterlab/conda/envs/python/lib/python3.7/site-packages (from notebook>=4.4.1->widgetsnbextension~=3.4.0->ipywidgets) (0.15.0)\n",
      "Requirement already satisfied: ptyprocess>=0.5 in /home/jupyterlab/conda/envs/python/lib/python3.7/site-packages (from pexpect>4.3->ipython>=4.0.0->ipywidgets) (0.7.0)\n",
      "Requirement already satisfied: wcwidth in /home/jupyterlab/conda/envs/python/lib/python3.7/site-packages (from prompt-toolkit!=3.0.0,!=3.0.1,<3.1.0,>=2.0.0->ipython>=4.0.0->ipywidgets) (0.2.5)\n",
      "Requirement already satisfied: pyparsing!=3.0.5,>=2.0.2 in /home/jupyterlab/conda/envs/python/lib/python3.7/site-packages (from packaging->ipykernel>=4.5.1->ipywidgets) (3.0.9)\n",
      "Requirement already satisfied: zipp>=3.1.0 in /home/jupyterlab/conda/envs/python/lib/python3.7/site-packages (from importlib-resources>=1.4.0->jsonschema>=2.6->nbformat>=4.2.0->ipywidgets) (3.8.1)\n",
      "Requirement already satisfied: pandocfilters>=1.4.1 in /home/jupyterlab/conda/envs/python/lib/python3.7/site-packages (from nbconvert>=5->notebook>=4.4.1->widgetsnbextension~=3.4.0->ipywidgets) (1.5.0)\n",
      "Requirement already satisfied: nbclient>=0.5.0 in /home/jupyterlab/conda/envs/python/lib/python3.7/site-packages (from nbconvert>=5->notebook>=4.4.1->widgetsnbextension~=3.4.0->ipywidgets) (0.6.8)\n",
      "Requirement already satisfied: lxml in /home/jupyterlab/conda/envs/python/lib/python3.7/site-packages (from nbconvert>=5->notebook>=4.4.1->widgetsnbextension~=3.4.0->ipywidgets) (4.9.1)\n",
      "Requirement already satisfied: jupyterlab-pygments in /home/jupyterlab/conda/envs/python/lib/python3.7/site-packages (from nbconvert>=5->notebook>=4.4.1->widgetsnbextension~=3.4.0->ipywidgets) (0.2.2)\n",
      "Requirement already satisfied: tinycss2 in /home/jupyterlab/conda/envs/python/lib/python3.7/site-packages (from nbconvert>=5->notebook>=4.4.1->widgetsnbextension~=3.4.0->ipywidgets) (1.1.1)\n",
      "Requirement already satisfied: beautifulsoup4 in /home/jupyterlab/conda/envs/python/lib/python3.7/site-packages (from nbconvert>=5->notebook>=4.4.1->widgetsnbextension~=3.4.0->ipywidgets) (4.11.1)\n",
      "Requirement already satisfied: markupsafe>=2.0 in /home/jupyterlab/conda/envs/python/lib/python3.7/site-packages (from nbconvert>=5->notebook>=4.4.1->widgetsnbextension~=3.4.0->ipywidgets) (2.1.1)\n",
      "Requirement already satisfied: mistune<3,>=2.0.3 in /home/jupyterlab/conda/envs/python/lib/python3.7/site-packages (from nbconvert>=5->notebook>=4.4.1->widgetsnbextension~=3.4.0->ipywidgets) (2.0.4)\n",
      "Requirement already satisfied: defusedxml in /home/jupyterlab/conda/envs/python/lib/python3.7/site-packages (from nbconvert>=5->notebook>=4.4.1->widgetsnbextension~=3.4.0->ipywidgets) (0.7.1)\n",
      "Requirement already satisfied: bleach in /home/jupyterlab/conda/envs/python/lib/python3.7/site-packages (from nbconvert>=5->notebook>=4.4.1->widgetsnbextension~=3.4.0->ipywidgets) (5.0.1)\n",
      "Requirement already satisfied: six>=1.5 in /home/jupyterlab/conda/envs/python/lib/python3.7/site-packages (from python-dateutil>=2.8.2->jupyter-client>=6.1.12->ipykernel>=4.5.1->ipywidgets) (1.16.0)\n",
      "Requirement already satisfied: argon2-cffi-bindings in /home/jupyterlab/conda/envs/python/lib/python3.7/site-packages (from argon2-cffi->notebook>=4.4.1->widgetsnbextension~=3.4.0->ipywidgets) (21.2.0)\n",
      "Requirement already satisfied: cffi>=1.0.1 in /home/jupyterlab/conda/envs/python/lib/python3.7/site-packages (from argon2-cffi-bindings->argon2-cffi->notebook>=4.4.1->widgetsnbextension~=3.4.0->ipywidgets) (1.15.1)\n",
      "Requirement already satisfied: soupsieve>1.2 in /home/jupyterlab/conda/envs/python/lib/python3.7/site-packages (from beautifulsoup4->nbconvert>=5->notebook>=4.4.1->widgetsnbextension~=3.4.0->ipywidgets) (2.3.2.post1)\n",
      "Requirement already satisfied: webencodings in /home/jupyterlab/conda/envs/python/lib/python3.7/site-packages (from bleach->nbconvert>=5->notebook>=4.4.1->widgetsnbextension~=3.4.0->ipywidgets) (0.5.1)\n",
      "Requirement already satisfied: pycparser in /home/jupyterlab/conda/envs/python/lib/python3.7/site-packages (from cffi>=1.0.1->argon2-cffi-bindings->argon2-cffi->notebook>=4.4.1->widgetsnbextension~=3.4.0->ipywidgets) (2.21)\n"
     ]
    }
   ],
   "source": [
    "!pip3 install folium\n",
    "!pip3 install wget\n",
    "!pip install branca==0.3.1 \n",
    "!pip install ipywidgets"
   ]
  },
  {
   "cell_type": "code",
   "execution_count": 3,
   "metadata": {},
   "outputs": [],
   "source": [
    "import folium\n",
    "import wget\n",
    "import pandas as pd"
   ]
  },
  {
   "cell_type": "code",
   "execution_count": 4,
   "metadata": {},
   "outputs": [],
   "source": [
    "# Import folium MarkerCluster plugin\n",
    "from folium.plugins import MarkerCluster\n",
    "# Import folium MousePosition plugin\n",
    "from folium.plugins import MousePosition\n",
    "# Import folium DivIcon plugin\n",
    "from folium.features import DivIcon"
   ]
  },
  {
   "cell_type": "markdown",
   "metadata": {},
   "source": [
    "If you need to refresh your memory about folium, you may download and refer to this previous folium lab:\n"
   ]
  },
  {
   "cell_type": "markdown",
   "metadata": {},
   "source": [
    "[Generating Maps with Python](https://cf-courses-data.s3.us.cloud-object-storage.appdomain.cloud/IBM-DS0321EN-SkillsNetwork/labs/module\\_3/DV0101EN-3-5-1-Generating-Maps-in-Python-py-v2.0.ipynb)\n"
   ]
  },
  {
   "cell_type": "markdown",
   "metadata": {},
   "source": [
    "## Task 1: Mark all launch sites on a map\n"
   ]
  },
  {
   "cell_type": "markdown",
   "metadata": {},
   "source": [
    "First, let's try to add each site's location on a map using site's latitude and longitude coordinates\n"
   ]
  },
  {
   "cell_type": "markdown",
   "metadata": {},
   "source": [
    "The following dataset with the name `spacex_launch_geo.csv` is an augmented dataset with latitude and longitude added for each site.\n"
   ]
  },
  {
   "cell_type": "code",
   "execution_count": 5,
   "metadata": {},
   "outputs": [],
   "source": [
    "# Download and read the `spacex_launch_geo.csv`\n",
    "spacex_csv_file = wget.download('https://cf-courses-data.s3.us.cloud-object-storage.appdomain.cloud/IBM-DS0321EN-SkillsNetwork/datasets/spacex_launch_geo.csv')\n",
    "spacex_df=pd.read_csv(spacex_csv_file)"
   ]
  },
  {
   "cell_type": "markdown",
   "metadata": {},
   "source": [
    "Now, you can take a look at what are the coordinates for each site.\n"
   ]
  },
  {
   "cell_type": "code",
   "execution_count": 6,
   "metadata": {},
   "outputs": [
    {
     "data": {
      "text/html": [
       "<div>\n",
       "<style scoped>\n",
       "    .dataframe tbody tr th:only-of-type {\n",
       "        vertical-align: middle;\n",
       "    }\n",
       "\n",
       "    .dataframe tbody tr th {\n",
       "        vertical-align: top;\n",
       "    }\n",
       "\n",
       "    .dataframe thead th {\n",
       "        text-align: right;\n",
       "    }\n",
       "</style>\n",
       "<table border=\"1\" class=\"dataframe\">\n",
       "  <thead>\n",
       "    <tr style=\"text-align: right;\">\n",
       "      <th></th>\n",
       "      <th>Launch Site</th>\n",
       "      <th>Lat</th>\n",
       "      <th>Long</th>\n",
       "    </tr>\n",
       "  </thead>\n",
       "  <tbody>\n",
       "    <tr>\n",
       "      <th>0</th>\n",
       "      <td>CCAFS LC-40</td>\n",
       "      <td>28.562302</td>\n",
       "      <td>-80.577356</td>\n",
       "    </tr>\n",
       "    <tr>\n",
       "      <th>1</th>\n",
       "      <td>CCAFS SLC-40</td>\n",
       "      <td>28.563197</td>\n",
       "      <td>-80.576820</td>\n",
       "    </tr>\n",
       "    <tr>\n",
       "      <th>2</th>\n",
       "      <td>KSC LC-39A</td>\n",
       "      <td>28.573255</td>\n",
       "      <td>-80.646895</td>\n",
       "    </tr>\n",
       "    <tr>\n",
       "      <th>3</th>\n",
       "      <td>VAFB SLC-4E</td>\n",
       "      <td>34.632834</td>\n",
       "      <td>-120.610745</td>\n",
       "    </tr>\n",
       "  </tbody>\n",
       "</table>\n",
       "</div>"
      ],
      "text/plain": [
       "    Launch Site        Lat        Long\n",
       "0   CCAFS LC-40  28.562302  -80.577356\n",
       "1  CCAFS SLC-40  28.563197  -80.576820\n",
       "2    KSC LC-39A  28.573255  -80.646895\n",
       "3   VAFB SLC-4E  34.632834 -120.610745"
      ]
     },
     "execution_count": 6,
     "metadata": {},
     "output_type": "execute_result"
    }
   ],
   "source": [
    "# Select relevant sub-columns: `Launch Site`, `Lat(Latitude)`, `Long(Longitude)`, `class`\n",
    "spacex_df = spacex_df[['Launch Site', 'Lat', 'Long', 'class']]\n",
    "launch_sites_df = spacex_df.groupby(['Launch Site'], as_index=False).first()\n",
    "launch_sites_df = launch_sites_df[['Launch Site', 'Lat', 'Long']]\n",
    "launch_sites_df"
   ]
  },
  {
   "cell_type": "markdown",
   "metadata": {},
   "source": [
    "Above coordinates are just plain numbers that can not give you any intuitive insights about where are those launch sites. If you are very good at geography, you can interpret those numbers directly in your mind. If not, that's fine too. Let's visualize those locations by pinning them on a map.\n"
   ]
  },
  {
   "cell_type": "markdown",
   "metadata": {},
   "source": [
    "We first need to create a folium `Map` object, with an initial center location to be NASA Johnson Space Center at Houston, Texas.\n"
   ]
  },
  {
   "cell_type": "code",
   "execution_count": 7,
   "metadata": {},
   "outputs": [],
   "source": [
    "# Start location is NASA Johnson Space Center\n",
    "nasa_coordinate = [29.559684888503615, -95.0830971930759]\n",
    "site_map = folium.Map(location=nasa_coordinate, zoom_start=10)"
   ]
  },
  {
   "cell_type": "markdown",
   "metadata": {},
   "source": [
    "We could use `folium.Circle` to add a highlighted circle area with a text label on a specific coordinate. For example,\n"
   ]
  },
  {
   "cell_type": "code",
   "execution_count": 8,
   "metadata": {},
   "outputs": [
    {
     "data": {
      "text/html": [
       "<div style=\"width:100%;\"><div style=\"position:relative;width:100%;height:0;padding-bottom:60%;\"><iframe src=\"data:text/html;charset=utf-8;base64,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\" style=\"position:absolute;width:100%;height:100%;left:0;top:0;border:none !important;\" allowfullscreen webkitallowfullscreen mozallowfullscreen></iframe></div></div>"
      ],
      "text/plain": [
       "<folium.folium.Map at 0x7f92f5386b50>"
      ]
     },
     "execution_count": 8,
     "metadata": {},
     "output_type": "execute_result"
    }
   ],
   "source": [
    "# Create a blue circle at NASA Johnson Space Center's coordinate with a popup label showing its name\n",
    "circle = folium.Circle(nasa_coordinate, radius=1000, color='#d35400', fill=True).add_child(folium.Popup('NASA Johnson Space Center'))\n",
    "# Create a blue circle at NASA Johnson Space Center's coordinate with a icon showing its name\n",
    "marker = folium.map.Marker(\n",
    "    nasa_coordinate,\n",
    "    # Create an icon as a text label\n",
    "    icon=DivIcon(\n",
    "        icon_size=(20,20),\n",
    "        icon_anchor=(0,0),\n",
    "        html='<div style=\"font-size: 12; color:#d35400;\"><b>%s</b></div>' % 'NASA JSC',\n",
    "        )\n",
    "    )\n",
    "site_map.add_child(circle)\n",
    "site_map.add_child(marker)"
   ]
  },
  {
   "cell_type": "markdown",
   "metadata": {},
   "source": [
    "and you should find a small yellow circle near the city of Houston and you can zoom-in to see a larger circle.\n"
   ]
  },
  {
   "cell_type": "markdown",
   "metadata": {},
   "source": [
    "Now, let's add a circle for each launch site in data frame `launch_sites`\n"
   ]
  },
  {
   "cell_type": "markdown",
   "metadata": {},
   "source": [
    "*TODO:*  Create and add `folium.Circle` and `folium.Marker` for each launch site on the site map\n"
   ]
  },
  {
   "cell_type": "markdown",
   "metadata": {},
   "source": [
    "An example of folium.Circle:\n"
   ]
  },
  {
   "cell_type": "markdown",
   "metadata": {},
   "source": [
    "`folium.Circle(coordinate, radius=1000, color='#000000', fill=True).add_child(folium.Popup(...))`\n"
   ]
  },
  {
   "cell_type": "markdown",
   "metadata": {},
   "source": [
    "An example of folium.Marker:\n"
   ]
  },
  {
   "cell_type": "markdown",
   "metadata": {},
   "source": [
    "`folium.map.Marker(coordinate, icon=DivIcon(icon_size=(20,20),icon_anchor=(0,0), html='<div style=\"font-size: 12; color:#d35400;\"><b>%s</b></div>' % 'label', ))`\n"
   ]
  },
  {
   "cell_type": "code",
   "execution_count": 9,
   "metadata": {},
   "outputs": [
    {
     "data": {
      "text/html": [
       "<div style=\"width:100%;\"><div style=\"position:relative;width:100%;height:0;padding-bottom:60%;\"><iframe src=\"data:text/html;charset=utf-8;base64,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\" style=\"position:absolute;width:100%;height:100%;left:0;top:0;border:none !important;\" allowfullscreen webkitallowfullscreen mozallowfullscreen></iframe></div></div>"
      ],
      "text/plain": [
       "<folium.folium.Map at 0x7f92f5302a50>"
      ]
     },
     "execution_count": 9,
     "metadata": {},
     "output_type": "execute_result"
    }
   ],
   "source": [
    "# Initial the map\n",
    "site_map = folium.Map(location=nasa_coordinate, zoom_start=4)\n",
    "# For each launch site, add a Circle object based on its coordinate (Lat, Long) values. In addition, add Launch site name as a popup label\n",
    "for index, row in launch_sites_df.iterrows():\n",
    "    coordinate = [row['Lat'], row['Long']]\n",
    "    folium.Circle(coordinate, radius=1000, color='#000000', fill=True).add_child(folium.Popup(row['Launch Site'])).add_to(site_map)\n",
    "    folium.map.Marker(coordinate, icon=DivIcon(icon_size=(20,20),icon_anchor=(0,0), html='<div style=\"font-size: 12; color:#d35400;\"><b>%s</b></div>' % row['Launch Site'], )).add_to(site_map)\n",
    "site_map"
   ]
  },
  {
   "cell_type": "markdown",
   "metadata": {},
   "source": [
    "The generated map with marked launch sites should look similar to the following:\n"
   ]
  },
  {
   "cell_type": "markdown",
   "metadata": {},
   "source": [
    "<center>\n",
    "    <img src=\"https://cf-courses-data.s3.us.cloud-object-storage.appdomain.cloud/IBM-DS0321EN-SkillsNetwork/labs/module_3/images/launch_site_markers.png\" />\n",
    "</center>\n"
   ]
  },
  {
   "cell_type": "markdown",
   "metadata": {},
   "source": [
    "Now, you can explore the map by zoom-in/out the marked areas\n",
    ", and try to answer the following questions:\n",
    "\n",
    "*   Are all launch sites in proximity to the Equator line?\n",
    "*   Are all launch sites in very close proximity to the coast?\n",
    "\n",
    "Also please try to explain your findings.\n"
   ]
  },
  {
   "cell_type": "markdown",
   "metadata": {},
   "source": [
    "# Task 2: Mark the success/failed launches for each site on the map\n"
   ]
  },
  {
   "cell_type": "markdown",
   "metadata": {},
   "source": [
    "Next, let's try to enhance the map by adding the launch outcomes for each site, and see which sites have high success rates.\n",
    "Recall that data frame spacex_df has detailed launch records, and the `class` column indicates if this launch was successful or not\n"
   ]
  },
  {
   "cell_type": "code",
   "execution_count": 10,
   "metadata": {},
   "outputs": [
    {
     "data": {
      "text/html": [
       "<div>\n",
       "<style scoped>\n",
       "    .dataframe tbody tr th:only-of-type {\n",
       "        vertical-align: middle;\n",
       "    }\n",
       "\n",
       "    .dataframe tbody tr th {\n",
       "        vertical-align: top;\n",
       "    }\n",
       "\n",
       "    .dataframe thead th {\n",
       "        text-align: right;\n",
       "    }\n",
       "</style>\n",
       "<table border=\"1\" class=\"dataframe\">\n",
       "  <thead>\n",
       "    <tr style=\"text-align: right;\">\n",
       "      <th></th>\n",
       "      <th>Launch Site</th>\n",
       "      <th>Lat</th>\n",
       "      <th>Long</th>\n",
       "      <th>class</th>\n",
       "    </tr>\n",
       "  </thead>\n",
       "  <tbody>\n",
       "    <tr>\n",
       "      <th>46</th>\n",
       "      <td>KSC LC-39A</td>\n",
       "      <td>28.573255</td>\n",
       "      <td>-80.646895</td>\n",
       "      <td>1</td>\n",
       "    </tr>\n",
       "    <tr>\n",
       "      <th>47</th>\n",
       "      <td>KSC LC-39A</td>\n",
       "      <td>28.573255</td>\n",
       "      <td>-80.646895</td>\n",
       "      <td>1</td>\n",
       "    </tr>\n",
       "    <tr>\n",
       "      <th>48</th>\n",
       "      <td>KSC LC-39A</td>\n",
       "      <td>28.573255</td>\n",
       "      <td>-80.646895</td>\n",
       "      <td>1</td>\n",
       "    </tr>\n",
       "    <tr>\n",
       "      <th>49</th>\n",
       "      <td>CCAFS SLC-40</td>\n",
       "      <td>28.563197</td>\n",
       "      <td>-80.576820</td>\n",
       "      <td>1</td>\n",
       "    </tr>\n",
       "    <tr>\n",
       "      <th>50</th>\n",
       "      <td>CCAFS SLC-40</td>\n",
       "      <td>28.563197</td>\n",
       "      <td>-80.576820</td>\n",
       "      <td>1</td>\n",
       "    </tr>\n",
       "    <tr>\n",
       "      <th>51</th>\n",
       "      <td>CCAFS SLC-40</td>\n",
       "      <td>28.563197</td>\n",
       "      <td>-80.576820</td>\n",
       "      <td>0</td>\n",
       "    </tr>\n",
       "    <tr>\n",
       "      <th>52</th>\n",
       "      <td>CCAFS SLC-40</td>\n",
       "      <td>28.563197</td>\n",
       "      <td>-80.576820</td>\n",
       "      <td>0</td>\n",
       "    </tr>\n",
       "    <tr>\n",
       "      <th>53</th>\n",
       "      <td>CCAFS SLC-40</td>\n",
       "      <td>28.563197</td>\n",
       "      <td>-80.576820</td>\n",
       "      <td>0</td>\n",
       "    </tr>\n",
       "    <tr>\n",
       "      <th>54</th>\n",
       "      <td>CCAFS SLC-40</td>\n",
       "      <td>28.563197</td>\n",
       "      <td>-80.576820</td>\n",
       "      <td>1</td>\n",
       "    </tr>\n",
       "    <tr>\n",
       "      <th>55</th>\n",
       "      <td>CCAFS SLC-40</td>\n",
       "      <td>28.563197</td>\n",
       "      <td>-80.576820</td>\n",
       "      <td>0</td>\n",
       "    </tr>\n",
       "  </tbody>\n",
       "</table>\n",
       "</div>"
      ],
      "text/plain": [
       "     Launch Site        Lat       Long  class\n",
       "46    KSC LC-39A  28.573255 -80.646895      1\n",
       "47    KSC LC-39A  28.573255 -80.646895      1\n",
       "48    KSC LC-39A  28.573255 -80.646895      1\n",
       "49  CCAFS SLC-40  28.563197 -80.576820      1\n",
       "50  CCAFS SLC-40  28.563197 -80.576820      1\n",
       "51  CCAFS SLC-40  28.563197 -80.576820      0\n",
       "52  CCAFS SLC-40  28.563197 -80.576820      0\n",
       "53  CCAFS SLC-40  28.563197 -80.576820      0\n",
       "54  CCAFS SLC-40  28.563197 -80.576820      1\n",
       "55  CCAFS SLC-40  28.563197 -80.576820      0"
      ]
     },
     "execution_count": 10,
     "metadata": {},
     "output_type": "execute_result"
    }
   ],
   "source": [
    "spacex_df.tail(10)"
   ]
  },
  {
   "cell_type": "markdown",
   "metadata": {},
   "source": [
    "Next, let's create markers for all launch records.\n",
    "If a launch was successful `(class=1)`, then we use a green marker and if a launch was failed, we use a red marker `(class=0)`\n"
   ]
  },
  {
   "cell_type": "markdown",
   "metadata": {},
   "source": [
    "Note that a launch only happens in one of the four launch sites, which means many launch records will have the exact same coordinate. Marker clusters can be a good way to simplify a map containing many markers having the same coordinate.\n"
   ]
  },
  {
   "cell_type": "markdown",
   "metadata": {},
   "source": [
    "Let's first create a `MarkerCluster` object\n"
   ]
  },
  {
   "cell_type": "code",
   "execution_count": 11,
   "metadata": {
    "id": "wP9PVUZ7Jfjt",
    "outputId": "6a3b8164-940c-4b93-9f3d-c655c4a0c683",
    "papermill": {
     "duration": 0.904519,
     "end_time": "2020-09-19T06:27:38.357041",
     "exception": false,
     "start_time": "2020-09-19T06:27:37.452522",
     "status": "completed"
    },
    "tags": []
   },
   "outputs": [],
   "source": [
    "marker_cluster = MarkerCluster()\n"
   ]
  },
  {
   "cell_type": "markdown",
   "metadata": {},
   "source": [
    "*TODO:* Create a new column in `launch_sites` dataframe called `marker_color` to store the marker colors based on the `class` value\n"
   ]
  },
  {
   "cell_type": "code",
   "execution_count": null,
   "metadata": {},
   "outputs": [],
   "source": [
    "\n",
    "# Apply a function to check the value of `class` column\n",
    "# If class=1, marker_color value will be green\n",
    "# If class=0, marker_color value will be red\n",
    "\n"
   ]
  },
  {
   "cell_type": "code",
   "execution_count": 12,
   "metadata": {},
   "outputs": [
    {
     "data": {
      "text/html": [
       "<div>\n",
       "<style scoped>\n",
       "    .dataframe tbody tr th:only-of-type {\n",
       "        vertical-align: middle;\n",
       "    }\n",
       "\n",
       "    .dataframe tbody tr th {\n",
       "        vertical-align: top;\n",
       "    }\n",
       "\n",
       "    .dataframe thead th {\n",
       "        text-align: right;\n",
       "    }\n",
       "</style>\n",
       "<table border=\"1\" class=\"dataframe\">\n",
       "  <thead>\n",
       "    <tr style=\"text-align: right;\">\n",
       "      <th></th>\n",
       "      <th>Launch Site</th>\n",
       "      <th>Lat</th>\n",
       "      <th>Long</th>\n",
       "      <th>class</th>\n",
       "      <th>marker_color</th>\n",
       "    </tr>\n",
       "  </thead>\n",
       "  <tbody>\n",
       "    <tr>\n",
       "      <th>46</th>\n",
       "      <td>KSC LC-39A</td>\n",
       "      <td>28.573255</td>\n",
       "      <td>-80.646895</td>\n",
       "      <td>1</td>\n",
       "      <td>green</td>\n",
       "    </tr>\n",
       "    <tr>\n",
       "      <th>47</th>\n",
       "      <td>KSC LC-39A</td>\n",
       "      <td>28.573255</td>\n",
       "      <td>-80.646895</td>\n",
       "      <td>1</td>\n",
       "      <td>green</td>\n",
       "    </tr>\n",
       "    <tr>\n",
       "      <th>48</th>\n",
       "      <td>KSC LC-39A</td>\n",
       "      <td>28.573255</td>\n",
       "      <td>-80.646895</td>\n",
       "      <td>1</td>\n",
       "      <td>green</td>\n",
       "    </tr>\n",
       "    <tr>\n",
       "      <th>49</th>\n",
       "      <td>CCAFS SLC-40</td>\n",
       "      <td>28.563197</td>\n",
       "      <td>-80.576820</td>\n",
       "      <td>1</td>\n",
       "      <td>green</td>\n",
       "    </tr>\n",
       "    <tr>\n",
       "      <th>50</th>\n",
       "      <td>CCAFS SLC-40</td>\n",
       "      <td>28.563197</td>\n",
       "      <td>-80.576820</td>\n",
       "      <td>1</td>\n",
       "      <td>green</td>\n",
       "    </tr>\n",
       "    <tr>\n",
       "      <th>51</th>\n",
       "      <td>CCAFS SLC-40</td>\n",
       "      <td>28.563197</td>\n",
       "      <td>-80.576820</td>\n",
       "      <td>0</td>\n",
       "      <td>red</td>\n",
       "    </tr>\n",
       "    <tr>\n",
       "      <th>52</th>\n",
       "      <td>CCAFS SLC-40</td>\n",
       "      <td>28.563197</td>\n",
       "      <td>-80.576820</td>\n",
       "      <td>0</td>\n",
       "      <td>red</td>\n",
       "    </tr>\n",
       "    <tr>\n",
       "      <th>53</th>\n",
       "      <td>CCAFS SLC-40</td>\n",
       "      <td>28.563197</td>\n",
       "      <td>-80.576820</td>\n",
       "      <td>0</td>\n",
       "      <td>red</td>\n",
       "    </tr>\n",
       "    <tr>\n",
       "      <th>54</th>\n",
       "      <td>CCAFS SLC-40</td>\n",
       "      <td>28.563197</td>\n",
       "      <td>-80.576820</td>\n",
       "      <td>1</td>\n",
       "      <td>green</td>\n",
       "    </tr>\n",
       "    <tr>\n",
       "      <th>55</th>\n",
       "      <td>CCAFS SLC-40</td>\n",
       "      <td>28.563197</td>\n",
       "      <td>-80.576820</td>\n",
       "      <td>0</td>\n",
       "      <td>red</td>\n",
       "    </tr>\n",
       "  </tbody>\n",
       "</table>\n",
       "</div>"
      ],
      "text/plain": [
       "     Launch Site        Lat       Long  class marker_color\n",
       "46    KSC LC-39A  28.573255 -80.646895      1        green\n",
       "47    KSC LC-39A  28.573255 -80.646895      1        green\n",
       "48    KSC LC-39A  28.573255 -80.646895      1        green\n",
       "49  CCAFS SLC-40  28.563197 -80.576820      1        green\n",
       "50  CCAFS SLC-40  28.563197 -80.576820      1        green\n",
       "51  CCAFS SLC-40  28.563197 -80.576820      0          red\n",
       "52  CCAFS SLC-40  28.563197 -80.576820      0          red\n",
       "53  CCAFS SLC-40  28.563197 -80.576820      0          red\n",
       "54  CCAFS SLC-40  28.563197 -80.576820      1        green\n",
       "55  CCAFS SLC-40  28.563197 -80.576820      0          red"
      ]
     },
     "execution_count": 12,
     "metadata": {},
     "output_type": "execute_result"
    }
   ],
   "source": [
    "# Function to assign color to launch outcome\n",
    "def assign_marker_color(launch_outcome):\n",
    "    if launch_outcome == 1:\n",
    "        return 'green'\n",
    "    else:\n",
    "        return 'red'\n",
    "    \n",
    "spacex_df['marker_color'] = spacex_df['class'].apply(assign_marker_color)\n",
    "spacex_df.tail(10)"
   ]
  },
  {
   "cell_type": "markdown",
   "metadata": {},
   "source": [
    "*TODO:* For each launch result in `spacex_df` data frame, add a `folium.Marker` to `marker_cluster`\n"
   ]
  },
  {
   "cell_type": "code",
   "execution_count": 13,
   "metadata": {},
   "outputs": [
    {
     "data": {
      "text/html": [
       "<div style=\"width:100%;\"><div style=\"position:relative;width:100%;height:0;padding-bottom:60%;\"><iframe src=\"data:text/html;charset=utf-8;base64,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\" style=\"position:absolute;width:100%;height:100%;left:0;top:0;border:none !important;\" allowfullscreen webkitallowfullscreen mozallowfullscreen></iframe></div></div>"
      ],
      "text/plain": [
       "<folium.folium.Map at 0x7f92f5302a50>"
      ]
     },
     "execution_count": 13,
     "metadata": {},
     "output_type": "execute_result"
    }
   ],
   "source": [
    "# Add marker_cluster to current site_map\n",
    "site_map.add_child(marker_cluster)\n",
    "\n",
    "# for each row in spacex_df data frame\n",
    "# create a Marker object with its coordinate\n",
    "# and customize the Marker's icon property to indicate if this launch was successed or failed, \n",
    "# e.g., icon=folium.Icon(color='white', icon_color=row['marker_color']\n",
    "for index, record in spacex_df.iterrows():\n",
    "    # TODO: Create and add a Marker cluster to the site map\n",
    "    # marker = folium.Marker(...)\n",
    "    marker_cluster.add_child(marker)\n",
    "\n",
    "site_map"
   ]
  },
  {
   "cell_type": "markdown",
   "metadata": {},
   "source": [
    "Your updated map may look like the following screenshots:\n"
   ]
  },
  {
   "cell_type": "markdown",
   "metadata": {},
   "source": [
    "<center>\n",
    "    <img src=\"https://cf-courses-data.s3.us.cloud-object-storage.appdomain.cloud/IBM-DS0321EN-SkillsNetwork/labs/module_3/images/launch_site_marker_cluster.png\" />\n",
    "</center>\n"
   ]
  },
  {
   "cell_type": "markdown",
   "metadata": {},
   "source": [
    "<center>\n",
    "    <img src=\"https://cf-courses-data.s3.us.cloud-object-storage.appdomain.cloud/IBM-DS0321EN-SkillsNetwork/labs/module_3/images/launch_site_marker_cluster_zoomed.png\" />\n",
    "</center>\n"
   ]
  },
  {
   "cell_type": "markdown",
   "metadata": {},
   "source": [
    "From the color-labeled markers in marker clusters, you should be able to easily identify which launch sites have relatively high success rates.\n"
   ]
  },
  {
   "cell_type": "markdown",
   "metadata": {},
   "source": [
    "# TASK 3: Calculate the distances between a launch site to its proximities\n"
   ]
  },
  {
   "cell_type": "markdown",
   "metadata": {},
   "source": [
    "Next, we need to explore and analyze the proximities of launch sites.\n"
   ]
  },
  {
   "cell_type": "markdown",
   "metadata": {},
   "source": [
    "Let's first add a `MousePosition` on the map to get coordinate for a mouse over a point on the map. As such, while you are exploring the map, you can easily find the coordinates of any points of interests (such as railway)\n"
   ]
  },
  {
   "cell_type": "code",
   "execution_count": 14,
   "metadata": {},
   "outputs": [
    {
     "data": {
      "text/html": [
       "<div style=\"width:100%;\"><div style=\"position:relative;width:100%;height:0;padding-bottom:60%;\"><iframe src=\"data:text/html;charset=utf-8;base64,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\" style=\"position:absolute;width:100%;height:100%;left:0;top:0;border:none !important;\" allowfullscreen webkitallowfullscreen mozallowfullscreen></iframe></div></div>"
      ],
      "text/plain": [
       "<folium.folium.Map at 0x7f92f5302a50>"
      ]
     },
     "execution_count": 14,
     "metadata": {},
     "output_type": "execute_result"
    }
   ],
   "source": [
    "# Add Mouse Position to get the coordinate (Lat, Long) for a mouse over on the map\n",
    "formatter = \"function(num) {return L.Util.formatNum(num, 5);};\"\n",
    "mouse_position = MousePosition(\n",
    "    position='topright',\n",
    "    separator=' Long: ',\n",
    "    empty_string='NaN',\n",
    "    lng_first=False,\n",
    "    num_digits=20,\n",
    "    prefix='Lat:',\n",
    "    lat_formatter=formatter,\n",
    "    lng_formatter=formatter,\n",
    ")\n",
    "\n",
    "site_map.add_child(mouse_position)\n",
    "site_map"
   ]
  },
  {
   "cell_type": "markdown",
   "metadata": {},
   "source": [
    "Now zoom in to a launch site and explore its proximity to see if you can easily find any railway, highway, coastline, etc. Move your mouse to these points and mark down their coordinates (shown on the top-left) in order to the distance to the launch site.\n"
   ]
  },
  {
   "cell_type": "markdown",
   "metadata": {},
   "source": [
    "You can calculate the distance between two points on the map based on their `Lat` and `Long` values using the following method:\n"
   ]
  },
  {
   "cell_type": "code",
   "execution_count": 15,
   "metadata": {},
   "outputs": [],
   "source": [
    "from math import sin, cos, sqrt, atan2, radians\n",
    "\n",
    "def calculate_distance(lat1, lon1, lat2, lon2):\n",
    "    # approximate radius of earth in km\n",
    "    R = 6373.0\n",
    "\n",
    "    lat1 = radians(lat1)\n",
    "    lon1 = radians(lon1)\n",
    "    lat2 = radians(lat2)\n",
    "    lon2 = radians(lon2)\n",
    "\n",
    "    dlon = lon2 - lon1\n",
    "    dlat = lat2 - lat1\n",
    "\n",
    "    a = sin(dlat / 2)**2 + cos(lat1) * cos(lat2) * sin(dlon / 2)**2\n",
    "    c = 2 * atan2(sqrt(a), sqrt(1 - a))\n",
    "\n",
    "    distance = R * c\n",
    "    return distance"
   ]
  },
  {
   "cell_type": "markdown",
   "metadata": {},
   "source": [
    "*TODO:* Mark down a point on the closest coastline using MousePosition and calculate the distance between the coastline point and the launch site.\n"
   ]
  },
  {
   "cell_type": "code",
   "execution_count": 16,
   "metadata": {},
   "outputs": [
    {
     "name": "stdout",
     "output_type": "stream",
     "text": [
      "0.8627671182499878  km\n"
     ]
    }
   ],
   "source": [
    "# find coordinate of the closet coastline\n",
    "# e.g.,: Lat: 28.56367  Lon: -80.57163\n",
    "# distance_coastline = calculate_distance(launch_site_lat, launch_site_lon, coastline_lat, coastline_lon)\n",
    "launch_site_lat = 28.563197\n",
    "launch_site_lon = -80.576820\n",
    "coastline_lat = 28.56334\n",
    "coastline_lon = -80.56799\n",
    "distance_coastline = calculate_distance(launch_site_lat, launch_site_lon, coastline_lat, coastline_lon)\n",
    "print(distance_coastline,' km')"
   ]
  },
  {
   "cell_type": "markdown",
   "metadata": {},
   "source": [
    "*TODO:* After obtained its coordinate, create a `folium.Marker` to show the distance\n"
   ]
  },
  {
   "cell_type": "code",
   "execution_count": 17,
   "metadata": {},
   "outputs": [
    {
     "data": {
      "text/html": [
       "<div style=\"width:100%;\"><div style=\"position:relative;width:100%;height:0;padding-bottom:60%;\"><iframe src=\"data:text/html;charset=utf-8;base64,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\" style=\"position:absolute;width:100%;height:100%;left:0;top:0;border:none !important;\" allowfullscreen webkitallowfullscreen mozallowfullscreen></iframe></div></div>"
      ],
      "text/plain": [
       "<folium.folium.Map at 0x7f92f5302a50>"
      ]
     },
     "execution_count": 17,
     "metadata": {},
     "output_type": "execute_result"
    }
   ],
   "source": [
    "# Create and add a folium.Marker on your selected closest coastline point on the map\n",
    "# Display the distance between coastline point and launch site using the icon property \n",
    "# for example\n",
    "# distance_marker = folium.Marker(\n",
    "#    coordinate,\n",
    "#    icon=DivIcon(\n",
    "#        icon_size=(20,20),\n",
    "#        icon_anchor=(0,0),\n",
    "#        html='<div style=\"font-size: 12; color:#d35400;\"><b>%s</b></div>' % \"{:10.2f} KM\".format(distance),\n",
    "#        )\n",
    "#    )\n",
    "distance_marker = folium.Marker(\n",
    "   [coastline_lat, coastline_lon],\n",
    "   icon=DivIcon(\n",
    "       icon_size=(20,20),\n",
    "       icon_anchor=(0,0),\n",
    "       html='<div style=\"font-size: 12; color:#d35400;\"><b>%s</b></div>' % \"{:10.2f} KM\".format(distance_coastline),\n",
    "       )\n",
    "   )\n",
    "site_map.add_child(distance_marker)"
   ]
  },
  {
   "cell_type": "markdown",
   "metadata": {},
   "source": [
    "*TODO:* Draw a `PolyLine` between a launch site to the selected coastline point\n"
   ]
  },
  {
   "cell_type": "code",
   "execution_count": 18,
   "metadata": {},
   "outputs": [
    {
     "data": {
      "text/html": [
       "<div style=\"width:100%;\"><div style=\"position:relative;width:100%;height:0;padding-bottom:60%;\"><iframe src=\"data:text/html;charset=utf-8;base64,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\" style=\"position:absolute;width:100%;height:100%;left:0;top:0;border:none !important;\" allowfullscreen webkitallowfullscreen mozallowfullscreen></iframe></div></div>"
      ],
      "text/plain": [
       "<folium.folium.Map at 0x7f92f5302a50>"
      ]
     },
     "execution_count": 18,
     "metadata": {},
     "output_type": "execute_result"
    }
   ],
   "source": [
    "# Create a `folium.PolyLine` object using the coastline coordinates and launch site coordinate\n",
    "# lines=folium.PolyLine(locations=coordinates, weight=1)\n",
    "coordinates = [[launch_site_lat,launch_site_lon],[coastline_lat,coastline_lon]]\n",
    "lines=folium.PolyLine(locations=coordinates, weight=1)\n",
    "site_map.add_child(lines)"
   ]
  },
  {
   "cell_type": "markdown",
   "metadata": {},
   "source": [
    "Your updated map with distance line should look like the following screenshot:\n"
   ]
  },
  {
   "cell_type": "markdown",
   "metadata": {},
   "source": [
    "<center>\n",
    "    <img src=\"https://cf-courses-data.s3.us.cloud-object-storage.appdomain.cloud/IBM-DS0321EN-SkillsNetwork/labs/module_3/images/launch_site_marker_distance.png\" />\n",
    "</center>\n"
   ]
  },
  {
   "cell_type": "markdown",
   "metadata": {},
   "source": [
    "*TODO:* Similarly, you can draw a line betwee a launch site to its closest city, railway, highway, etc. You need to use `MousePosition` to find the their coordinates on the map first\n"
   ]
  },
  {
   "cell_type": "markdown",
   "metadata": {},
   "source": [
    "A railway map symbol may look like this:\n"
   ]
  },
  {
   "cell_type": "markdown",
   "metadata": {},
   "source": [
    "<center>\n",
    "    <img src=\"https://cf-courses-data.s3.us.cloud-object-storage.appdomain.cloud/IBM-DS0321EN-SkillsNetwork/labs/module_3/images/railway.png\" />\n",
    "</center>\n"
   ]
  },
  {
   "cell_type": "markdown",
   "metadata": {},
   "source": [
    "A highway map symbol may look like this:\n"
   ]
  },
  {
   "cell_type": "markdown",
   "metadata": {},
   "source": [
    "<center>\n",
    "    <img src=\"https://cf-courses-data.s3.us.cloud-object-storage.appdomain.cloud/IBM-DS0321EN-SkillsNetwork/labs/module_3/images/highway.png\" />\n",
    "</center>\n"
   ]
  },
  {
   "cell_type": "markdown",
   "metadata": {},
   "source": [
    "A city map symbol may look like this:\n"
   ]
  },
  {
   "cell_type": "markdown",
   "metadata": {},
   "source": [
    "<center>\n",
    "    <img src=\"https://cf-courses-data.s3.us.cloud-object-storage.appdomain.cloud/IBM-DS0321EN-SkillsNetwork/labs/module_3/images/city.png\" />\n",
    "</center>\n"
   ]
  },
  {
   "cell_type": "code",
   "execution_count": 19,
   "metadata": {},
   "outputs": [],
   "source": [
    "# Create a marker with distance to a closest city, railway, highway, etc.\n",
    "# Draw a line between the marker to the launch site\n",
    "closest_highway = 28.56335, -80.57085\n",
    "closest_railroad = 28.57206, -80.58525\n",
    "closest_city = 28.10473, -80.64531"
   ]
  },
  {
   "cell_type": "code",
   "execution_count": 20,
   "metadata": {},
   "outputs": [
    {
     "name": "stdout",
     "output_type": "stream",
     "text": [
      "distance_highway = 0.5834695366934144  km\n",
      "distance_railroad = 1.2845344718142522  km\n",
      "distance_city = 51.43416999517233  km\n"
     ]
    }
   ],
   "source": [
    "distance_highway = calculate_distance(launch_site_lat, launch_site_lon, closest_highway[0], closest_highway[1])\n",
    "print('distance_highway =',distance_highway, ' km')\n",
    "distance_railroad = calculate_distance(launch_site_lat, launch_site_lon, closest_railroad[0], closest_railroad[1])\n",
    "print('distance_railroad =',distance_railroad, ' km')\n",
    "distance_city = calculate_distance(launch_site_lat, launch_site_lon, closest_city[0], closest_city[1])\n",
    "print('distance_city =',distance_city, ' km')"
   ]
  },
  {
   "cell_type": "code",
   "execution_count": 21,
   "metadata": {},
   "outputs": [
    {
     "data": {
      "text/html": [
       "<div style=\"width:100%;\"><div style=\"position:relative;width:100%;height:0;padding-bottom:60%;\"><iframe src=\"data:text/html;charset=utf-8;base64,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\" style=\"position:absolute;width:100%;height:100%;left:0;top:0;border:none !important;\" allowfullscreen webkitallowfullscreen mozallowfullscreen></iframe></div></div>"
      ],
      "text/plain": [
       "<folium.folium.Map at 0x7f92f5302a50>"
      ]
     },
     "execution_count": 21,
     "metadata": {},
     "output_type": "execute_result"
    }
   ],
   "source": [
    "distance_marker = folium.Marker(\n",
    "   closest_highway,\n",
    "   icon=DivIcon(\n",
    "       icon_size=(20,20),\n",
    "       icon_anchor=(0,0),\n",
    "       html='<div style=\"font-size: 12; color:#d35400;\"><b>%s</b></div>' % \"{:10.2f} KM\".format(distance_highway),\n",
    "       )\n",
    "   )\n",
    "site_map.add_child(distance_marker)\n",
    "# closest highway line\n",
    "coordinates = [[launch_site_lat,launch_site_lon],closest_highway]\n",
    "lines=folium.PolyLine(locations=coordinates, weight=1)\n",
    "site_map.add_child(lines)\n",
    "\n",
    "# closest railroad marker\n",
    "distance_marker = folium.Marker(\n",
    "   closest_railroad,\n",
    "   icon=DivIcon(\n",
    "       icon_size=(20,20),\n",
    "       icon_anchor=(0,0),\n",
    "       html='<div style=\"font-size: 12; color:#d35400;\"><b>%s</b></div>' % \"{:10.2f} KM\".format(distance_railroad),\n",
    "       )\n",
    "   )\n",
    "site_map.add_child(distance_marker)\n",
    "# closest railroad line\n",
    "coordinates = [[launch_site_lat,launch_site_lon],closest_railroad]\n",
    "lines=folium.PolyLine(locations=coordinates, weight=1)\n",
    "site_map.add_child(lines)\n",
    "\n",
    "# closest city marker\n",
    "distance_marker = folium.Marker(\n",
    "   closest_city,\n",
    "   icon=DivIcon(\n",
    "       icon_size=(20,20),\n",
    "       icon_anchor=(0,0),\n",
    "       html='<div style=\"font-size: 12; color:#d35400;\"><b>%s</b></div>' % \"{:10.2f} KM\".format(distance_city),\n",
    "       )\n",
    "   )\n",
    "site_map.add_child(distance_marker)\n",
    "# closest city line\n",
    "coordinates = [[launch_site_lat,launch_site_lon],closest_city]\n",
    "lines=folium.PolyLine(locations=coordinates, weight=1)\n",
    "site_map.add_child(lines)"
   ]
  },
  {
   "cell_type": "markdown",
   "metadata": {},
   "source": [
    "After you plot distance lines to the proximities, you can answer the following questions easily:\n",
    "\n",
    "*   Are launch sites in close proximity to railways?\n",
    "*   Are launch sites in close proximity to highways?\n",
    "*   Are launch sites in close proximity to coastline?\n",
    "*   Do launch sites keep certain distance away from cities?\n",
    "\n",
    "Also please try to explain your findings.\n"
   ]
  },
  {
   "cell_type": "markdown",
   "metadata": {},
   "source": [
    "# Next Steps:\n",
    "\n",
    "Now you have discovered many interesting insights related to the launch sites' location using folium, in a very interactive way. Next, you will need to build a dashboard using Ploty Dash on detailed launch records.\n"
   ]
  },
  {
   "cell_type": "markdown",
   "metadata": {},
   "source": [
    "## Authors\n"
   ]
  },
  {
   "cell_type": "markdown",
   "metadata": {},
   "source": [
    "[Yan Luo](https://www.linkedin.com/in/yan-luo-96288783/?utm_medium=Exinfluencer&utm_source=Exinfluencer&utm_content=000026UJ&utm_term=10006555&utm_id=NA-SkillsNetwork-Channel-SkillsNetworkCoursesIBMDS0321ENSkillsNetwork26802033-2022-01-01)\n"
   ]
  },
  {
   "cell_type": "markdown",
   "metadata": {},
   "source": [
    "### Other Contributors\n"
   ]
  },
  {
   "cell_type": "markdown",
   "metadata": {},
   "source": [
    "Joseph Santarcangelo\n"
   ]
  },
  {
   "cell_type": "markdown",
   "metadata": {},
   "source": [
    "## Change Log\n"
   ]
  },
  {
   "cell_type": "markdown",
   "metadata": {},
   "source": [
    "| Date (YYYY-MM-DD) | Version | Changed By | Change Description          |\n",
    "| ----------------- | ------- | ---------- | --------------------------- |\n",
    "| 2021-05-26        | 1.0     | Yan        | Created the initial version |\n"
   ]
  },
  {
   "cell_type": "markdown",
   "metadata": {},
   "source": [
    "Copyright © 2021 IBM Corporation. All rights reserved.\n"
   ]
  }
 ],
 "metadata": {
  "kernelspec": {
   "display_name": "Python",
   "language": "python",
   "name": "conda-env-python-py"
  },
  "language_info": {
   "codemirror_mode": {
    "name": "ipython",
    "version": 3
   },
   "file_extension": ".py",
   "mimetype": "text/x-python",
   "name": "python",
   "nbconvert_exporter": "python",
   "pygments_lexer": "ipython3",
   "version": "3.7.12"
  },
  "papermill": {
   "duration": 142.196942,
   "end_time": "2020-09-19T06:29:13.341578",
   "environment_variables": {},
   "exception": null,
   "input_path": "__notebook__.ipynb",
   "output_path": "__notebook__.ipynb",
   "parameters": {},
   "start_time": "2020-09-19T06:26:51.144636",
   "version": "2.1.0"
  }
 },
 "nbformat": 4,
 "nbformat_minor": 4
}
